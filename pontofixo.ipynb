{
  "nbformat": 4,
  "nbformat_minor": 0,
  "metadata": {
    "colab": {
      "provenance": [],
      "authorship_tag": "ABX9TyOtcGrSJvnYMhGcKQdy2gxe",
      "include_colab_link": true
    },
    "kernelspec": {
      "name": "python3",
      "display_name": "Python 3"
    },
    "language_info": {
      "name": "python"
    }
  },
  "cells": [
    {
      "cell_type": "markdown",
      "metadata": {
        "id": "view-in-github",
        "colab_type": "text"
      },
      "source": [
        "<a href=\"https://colab.research.google.com/github/Wuel1/calculonumerico/blob/main/pontofixo.ipynb\" target=\"_parent\"><img src=\"https://colab.research.google.com/assets/colab-badge.svg\" alt=\"Open In Colab\"/></a>"
      ]
    },
    {
      "cell_type": "code",
      "execution_count": 1,
      "metadata": {
        "colab": {
          "base_uri": "https://localhost:8080/"
        },
        "id": "Wrnt_fv7j4EC",
        "outputId": "3d69cf5e-978b-47a3-ed7d-157259b17172"
      },
      "outputs": [
        {
          "output_type": "stream",
          "name": "stdout",
          "text": [
            "-----------PONTO FIXO-------------\n",
            "A solução encontrada foi: 2.543557283345583\n",
            "O número de iterações foi: 1596\n"
          ]
        }
      ],
      "source": [
        "import math\n",
        "\n",
        "#função original\n",
        "def f(x):\n",
        "    return math.sqrt(9-x**2)-math.exp(x)/8\n",
        "\n",
        "#função de iteração\n",
        "def phi(x):\n",
        "    #math.sqrt(-math.exp(2*x)/64 + 9)\n",
        "    #math.log(8) + math.log(3-x)\n",
        "    return math.sqrt(-math.exp(2*x)/64 + 9)\n",
        "\n",
        "#aproximação inicial\n",
        "x_k = 1\n",
        "\n",
        "#erro\n",
        "erro = 0.00009\n",
        "\n",
        "#contagem das iterações\n",
        "k = 0\n",
        "\n",
        "#iterações\n",
        "while abs(f(x_k))>erro:s\n",
        "    x_k = phi(x_k)\n",
        "    k += 1\n",
        "\n",
        "print(\"-----------PONTO FIXO-------------\")\n",
        "print(\"A solução encontrada foi:\", x_k)\n",
        "print(\"O número de iterações foi:\", k)"
      ]
    }
  ]
}