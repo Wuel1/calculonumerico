{
  "nbformat": 4,
  "nbformat_minor": 0,
  "metadata": {
    "colab": {
      "provenance": [],
      "authorship_tag": "ABX9TyPoje/uhSbGFVuKVZ8ZjaDP",
      "include_colab_link": true
    },
    "kernelspec": {
      "name": "python3",
      "display_name": "Python 3"
    },
    "language_info": {
      "name": "python"
    }
  },
  "cells": [
    {
      "cell_type": "markdown",
      "metadata": {
        "id": "view-in-github",
        "colab_type": "text"
      },
      "source": [
        "<a href=\"https://colab.research.google.com/github/Wuel1/calculonumerico/blob/main/secante.ipynb\" target=\"_parent\"><img src=\"https://colab.research.google.com/assets/colab-badge.svg\" alt=\"Open In Colab\"/></a>"
      ]
    },
    {
      "cell_type": "code",
      "execution_count": 1,
      "metadata": {
        "colab": {
          "base_uri": "https://localhost:8080/"
        },
        "id": "5AUuRyXZbz89",
        "outputId": "69a76d8e-b2fe-44d5-a068-baf37fc972ca"
      },
      "outputs": [
        {
          "output_type": "stream",
          "name": "stdout",
          "text": [
            "-----------SECANTE-------------\n",
            "A solução encontrada foi: 2.543585093485565\n",
            "O número de iterações foi: 7\n"
          ]
        }
      ],
      "source": [
        "import math\n",
        "\n",
        "#função\n",
        "def f(x):\n",
        "  return math.sqrt(9-x**2)-math.exp(x)/8\n",
        "\n",
        "#aproximações inicial\n",
        "x0 = 0\n",
        "x1 = 3\n",
        "\n",
        "#erro\n",
        "erro = 0.00009\n",
        "\n",
        "#contagem das iterações\n",
        "k = 0\n",
        "\n",
        "#iterações\n",
        "while abs (f(x1))>erro:\n",
        "  if abs(x0-x1)<erro:\n",
        "    break\n",
        "  x2 = (x0*f(x1)-x1*f(x0))/(f(x1)-f(x0))\n",
        "  x0 = x1\n",
        "  x1 = x2\n",
        "  k += 1\n",
        "\n",
        "print(\"-----------SECANTE-------------\")\n",
        "print(\"A solução encontrada foi:\", x1)\n",
        "print(\"O número de iterações foi:\", k)"
      ]
    }
  ]
}