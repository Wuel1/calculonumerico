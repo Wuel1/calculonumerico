{
  "nbformat": 4,
  "nbformat_minor": 0,
  "metadata": {
    "colab": {
      "provenance": [],
      "authorship_tag": "ABX9TyObOqaiYsAnjuC/qryeOzK4",
      "include_colab_link": true
    },
    "kernelspec": {
      "name": "python3",
      "display_name": "Python 3"
    },
    "language_info": {
      "name": "python"
    }
  },
  "cells": [
    {
      "cell_type": "markdown",
      "metadata": {
        "id": "view-in-github",
        "colab_type": "text"
      },
      "source": [
        "<a href=\"https://colab.research.google.com/github/Wuel1/calculonumerico/blob/main/gauss.ipynb\" target=\"_parent\"><img src=\"https://colab.research.google.com/assets/colab-badge.svg\" alt=\"Open In Colab\"/></a>"
      ]
    },
    {
      "cell_type": "code",
      "execution_count": null,
      "metadata": {
        "colab": {
          "base_uri": "https://localhost:8080/"
        },
        "id": "LUIMeIkozviA",
        "outputId": "31ac306b-50c8-4944-86df-eeab0d205a53"
      },
      "outputs": [
        {
          "output_type": "stream",
          "name": "stdout",
          "text": [
            "A matriz escalonada é:\n",
            "[[ 3.00000000e+00  2.00000000e+00  4.00000000e+00]\n",
            " [ 0.00000000e+00  3.33333333e-01  6.66666667e-01]\n",
            " [ 0.00000000e+00  5.55111512e-17 -8.00000000e+00]]\n",
            "---------------\n",
            "[1, 1.6666666666666667, -4.440892098500626e-16]\n"
          ]
        }
      ],
      "source": [
        "import  numpy as np\n",
        "\n",
        "def gauss(a,b):\n",
        "    #A é a matriz dos coeficientes\n",
        "    #B é o vetor de termos independentes\n",
        "\n",
        "    n = len(b)\n",
        "\n",
        "    for k in range(0,n-1): #percorre a diagonal\n",
        "        pivo = a[k][k]\n",
        "\n",
        "        for i in range(k+1, n): #percorre a linha\n",
        "            m = a[i][k] / pivo\n",
        "\n",
        "            for j in range (k,n): #percorre as colunas\n",
        "                a[i][j] =  a[i][j] - m * a[k][j]\n",
        "\n",
        "            b[i] = b[i] - m*b[k]\n",
        "    return a,b\n",
        "\n",
        "A = [[3,2,4],[1,1,2],[4,3,-2]]\n",
        "b = [1,2,3]\n",
        "\n",
        "A_t, b_t =  gauss(A,b)\n",
        "\n",
        "print(\"A matriz escalonada é:\")\n",
        "print(np.array(A_t))\n",
        "print(\"---------------\")\n",
        "print(b_t)"
      ]
    },
    {
      "cell_type": "code",
      "source": [
        "def subs_reversa(A_t,b_t):\n",
        "    n = len(b)\n",
        "    x = n*[0] #Vetor Solução\n",
        "\n",
        "    x[n-1] = b[n-1] / A[n-1][n-1]\n",
        "\n",
        "    for k in range(n-2,-1,-1):\n",
        "      s = 0\n",
        "      for j in range(k+1,n):\n",
        "        s = s +A[k][j]*x[j]\n",
        "\n",
        "\n",
        "      x[k] = (b[k] - s) / A[k][k]\n",
        "\n",
        "    return x # retorna a solução do SL A*x = b\n",
        "\n",
        "    #teste\n",
        "\n",
        "x = subs_reversa(A_t,b_t)\n",
        "print(\"O resultado do sistema Linear é:\")\n",
        "print(x)"
      ],
      "metadata": {
        "colab": {
          "base_uri": "https://localhost:8080/"
        },
        "id": "kW4ePxyf0Y4d",
        "outputId": "54aabeac-77f8-42c8-cb07-34bffbf1c71b"
      },
      "execution_count": null,
      "outputs": [
        {
          "output_type": "stream",
          "name": "stdout",
          "text": [
            "O resultado do sistema Linear é:\n",
            "[-3.0, 5.0, 5.551115123125783e-17]\n"
          ]
        }
      ]
    },
    {
      "cell_type": "code",
      "source": [
        "import  numpy as np\n",
        "\n",
        "def gauss(a,b):\n",
        "    #A é a matriz dos coeficientes\n",
        "    #B é o vetor de termos independentes\n",
        "\n",
        "    n = len(b)\n",
        "\n",
        "    for k in range(0,n-1): #percorre a diagonal\n",
        "        pivo = a[k][k]\n",
        "\n",
        "        for i in range(k+1, n): #percorre a linha\n",
        "            m = a[i][k] / pivo\n",
        "\n",
        "            for j in range (k,n): #percorre as colunas\n",
        "                a[i][j] =  a[i][j] - m * a[k][j]\n",
        "\n",
        "            b[i] = b[i] - m*b[k]\n",
        "    return a,b\n",
        "\n",
        "A = [[3,2,4],[1,1,2],[4,3,-2]]\n",
        "b = [1,2,3]\n",
        "\n",
        "def subs_reversa(A_t,b_t):\n",
        "    n = len(b)\n",
        "    x = n*[0] #Vetor Solução\n",
        "\n",
        "    x[n-1] = b[n-1] / A[n-1][n-1]\n",
        "\n",
        "    for k in range(n-2,-1,-1):\n",
        "      s = 0\n",
        "      for j in range(k+1,n):\n",
        "        s = s +A[k][j]*x[j]\n",
        "\n",
        "\n",
        "      x[k] = (b[k] - s) / A[k][k]\n",
        "\n",
        "    return x # retorna a solução do SL A*x = b\n",
        "\n",
        "def matriz_de_Hilbert(n):\n",
        "\n",
        "  A = np.zeros((n,n))\n",
        "\n",
        "  B = n*[0]\n",
        "\n",
        "  for i in range(0,n):\n",
        "    for j in range(0,n):\n",
        "      A[i][j] = 1 / ((i+1) + (j+1) -1)\n",
        "\n",
        "  for i in range(0,n):\n",
        "    s = 0\n",
        "    for j in range(0,n):\n",
        "      s = s + A[i][j]\n",
        "    B[i] = s\n",
        "\n",
        "  return A, B\n",
        "  # A é a matriz de Hilbert\n",
        "  # B é o vetor de termos independentes\n",
        "\n",
        "A, B = matriz_de_Hilbert(10)\n",
        "A_t, B_t = gauss(A, B)\n",
        "\n",
        "print(A_t)\n",
        "print(20*'__')\n",
        "print(B_t)\n",
        "print(20*'__')\n",
        "\n",
        "x = subs_reversa(A_t, B_t)\n",
        "print(x)"
      ],
      "metadata": {
        "colab": {
          "base_uri": "https://localhost:8080/"
        },
        "id": "HZcejb-zTLXW",
        "outputId": "af3b0eb0-a9e6-439f-da8d-cecc50c7b46e"
      },
      "execution_count": 13,
      "outputs": [
        {
          "output_type": "stream",
          "name": "stdout",
          "text": [
            "[[ 1.00000000e+00  5.00000000e-01  3.33333333e-01  2.50000000e-01\n",
            "   2.00000000e-01  1.66666667e-01  1.42857143e-01  1.25000000e-01\n",
            "   1.11111111e-01  1.00000000e-01]\n",
            " [ 0.00000000e+00  8.33333333e-02  8.33333333e-02  7.50000000e-02\n",
            "   6.66666667e-02  5.95238095e-02  5.35714286e-02  4.86111111e-02\n",
            "   4.44444444e-02  4.09090909e-02]\n",
            " [ 0.00000000e+00 -1.38777878e-17  5.55555556e-03  8.33333333e-03\n",
            "   9.52380952e-03  9.92063492e-03  9.92063492e-03  9.72222222e-03\n",
            "   9.42760943e-03  9.09090909e-03]\n",
            " [ 0.00000000e+00  0.00000000e+00  0.00000000e+00  3.57142857e-04\n",
            "   7.14285714e-04  9.92063492e-04  1.19047619e-03  1.32575758e-03\n",
            "   1.41414141e-03  1.46853147e-03]\n",
            " [ 0.00000000e+00  0.00000000e+00  0.00000000e+00  0.00000000e+00\n",
            "   2.26757370e-05  5.66893424e-05  9.27643785e-05  1.26262626e-04\n",
            "   1.55400155e-04  1.79820180e-04]\n",
            " [ 0.00000000e+00  0.00000000e+00  0.00000000e+00  0.00000000e+00\n",
            "   0.00000000e+00  1.43154905e-06  4.29464715e-06  8.09375809e-06\n",
            "   1.23333457e-05  1.66500166e-05]\n",
            " [ 0.00000000e+00  0.00000000e+00  0.00000000e+00  0.00000000e+00\n",
            "   0.00000000e+00  0.00000000e+00  9.00974923e-08  3.15341224e-07\n",
            "   6.72727944e-07  1.13522841e-06]\n",
            " [ 0.00000000e+00  0.00000000e+00  0.00000000e+00  0.00000000e+00\n",
            "   0.00000000e+00  0.00000000e+00  0.00000000e+00  5.65997065e-09\n",
            "   2.26398821e-08  5.39361899e-08]\n",
            " [ 0.00000000e+00  0.00000000e+00  0.00000000e+00  0.00000000e+00\n",
            "   0.00000000e+00 -1.69406589e-21  0.00000000e+00  0.00000000e+00\n",
            "   3.55136713e-10  1.59811304e-09]\n",
            " [ 0.00000000e+00  0.00000000e+00  0.00000000e+00  2.16840434e-19\n",
            "   0.00000000e+00  0.00000000e+00  0.00000000e+00  0.00000000e+00\n",
            "   0.00000000e+00  2.22677000e-11]]\n",
            "________________________________________\n",
            "[2.9289682539682538, 0.5553932178932182, 0.07149470899470844, 0.007462398712398968, 0.0006336124193268584, 4.2803316612260826e-05, 2.2133950653494808e-06, 8.223604342646523e-08, 1.9532488241232643e-09, 2.2268779976630608e-11]\n",
            "________________________________________\n",
            "[79.00000000000063, -516.0000000000034, 540.0000000000033]\n"
          ]
        }
      ]
    }
  ]
}