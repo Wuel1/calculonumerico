{
  "nbformat": 4,
  "nbformat_minor": 0,
  "metadata": {
    "colab": {
      "provenance": [],
      "authorship_tag": "ABX9TyMio6d4zoQ5/1sexaeSURPS",
      "include_colab_link": true
    },
    "kernelspec": {
      "name": "python3",
      "display_name": "Python 3"
    },
    "language_info": {
      "name": "python"
    }
  },
  "cells": [
    {
      "cell_type": "markdown",
      "metadata": {
        "id": "view-in-github",
        "colab_type": "text"
      },
      "source": [
        "<a href=\"https://colab.research.google.com/github/Wuel1/calculonumerico/blob/main/gauss.ipynb\" target=\"_parent\"><img src=\"https://colab.research.google.com/assets/colab-badge.svg\" alt=\"Open In Colab\"/></a>"
      ]
    },
    {
      "cell_type": "code",
      "execution_count": 7,
      "metadata": {
        "colab": {
          "base_uri": "https://localhost:8080/"
        },
        "id": "LUIMeIkozviA",
        "outputId": "31ac306b-50c8-4944-86df-eeab0d205a53"
      },
      "outputs": [
        {
          "output_type": "stream",
          "name": "stdout",
          "text": [
            "A matriz escalonada é:\n",
            "[[ 3.00000000e+00  2.00000000e+00  4.00000000e+00]\n",
            " [ 0.00000000e+00  3.33333333e-01  6.66666667e-01]\n",
            " [ 0.00000000e+00  5.55111512e-17 -8.00000000e+00]]\n",
            "---------------\n",
            "[1, 1.6666666666666667, -4.440892098500626e-16]\n"
          ]
        }
      ],
      "source": [
        "import  numpy as np\n",
        "\n",
        "def gauss(a,b):\n",
        "    #A é a matriz dos coeficientes\n",
        "    #B é o vetor de termos independentes\n",
        "\n",
        "    n = len(b)\n",
        "\n",
        "    for k in range(0,n-1): #percorre a diagonal\n",
        "        pivo = a[k][k]\n",
        "\n",
        "        for i in range(k+1, n): #percorre a linha\n",
        "            m = a[i][k] / pivo\n",
        "\n",
        "            for j in range (k,n): #percorre as colunas\n",
        "                a[i][j] =  a[i][j] - m * a[k][j]\n",
        "\n",
        "            b[i] = b[i] - m*b[k]\n",
        "    return a,b\n",
        "\n",
        "A = [[3,2,4],[1,1,2],[4,3,-2]]\n",
        "b = [1,2,3]\n",
        "\n",
        "A_t, b_t =  gauss(A,b)\n",
        "\n",
        "print(\"A matriz escalonada é:\")\n",
        "print(np.array(A_t))\n",
        "print(\"---------------\")\n",
        "print(b_t)"
      ]
    },
    {
      "cell_type": "code",
      "source": [
        "def subs_reversa(A_t,b_t):\n",
        "    n = len(b)\n",
        "    x = n*[0] #Vetor Solução\n",
        "\n",
        "    x[n-1] = b[n-1] / A[n-1][n-1]\n",
        "\n",
        "    for k in range(n-2,-1,-1):\n",
        "      s = 0\n",
        "      for j in range(k+1,n):\n",
        "        s = s +A[k][j]*x[j]\n",
        "\n",
        "\n",
        "      x[k] = (b[k] - s) / A[k][k]\n",
        "\n",
        "    return x # retorna a solução do SL A*x = b\n",
        "\n",
        "    #teste\n",
        "\n",
        "x = subs_reversa(A_t,b_t)\n",
        "print(\"O resultado do sistema Linear é:\")\n",
        "print(x)"
      ],
      "metadata": {
        "colab": {
          "base_uri": "https://localhost:8080/"
        },
        "id": "kW4ePxyf0Y4d",
        "outputId": "54aabeac-77f8-42c8-cb07-34bffbf1c71b"
      },
      "execution_count": 8,
      "outputs": [
        {
          "output_type": "stream",
          "name": "stdout",
          "text": [
            "O resultado do sistema Linear é:\n",
            "[-3.0, 5.0, 5.551115123125783e-17]\n"
          ]
        }
      ]
    }
  ]
}