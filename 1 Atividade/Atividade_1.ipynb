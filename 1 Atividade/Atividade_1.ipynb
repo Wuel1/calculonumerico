{
  "nbformat": 4,
  "nbformat_minor": 0,
  "metadata": {
    "colab": {
      "provenance": [],
      "authorship_tag": "ABX9TyPfxAkiRA7PYlx/+ek+qC81",
      "include_colab_link": true
    },
    "kernelspec": {
      "name": "python3",
      "display_name": "Python 3"
    },
    "language_info": {
      "name": "python"
    }
  },
  "cells": [
    {
      "cell_type": "markdown",
      "metadata": {
        "id": "view-in-github",
        "colab_type": "text"
      },
      "source": [
        "<a href=\"https://colab.research.google.com/github/Wuel1/calculonumerico/blob/main/Atividade_1.ipynb\" target=\"_parent\"><img src=\"https://colab.research.google.com/assets/colab-badge.svg\" alt=\"Open In Colab\"/></a>"
      ]
    },
    {
      "cell_type": "code",
      "execution_count": null,
      "metadata": {
        "colab": {
          "base_uri": "https://localhost:8080/"
        },
        "id": "WTOZLF8nblzJ",
        "outputId": "57748249-c9fd-4d99-ca16-0c51fe7acc03"
      },
      "outputs": [
        {
          "output_type": "stream",
          "name": "stdout",
          "text": [
            "2.220446049250313e-16\n"
          ]
        }
      ],
      "source": [
        "A = 1\n",
        "S = 2\n",
        "\n",
        "while S > 1:\n",
        "    A = A/2\n",
        "    S = 1 + A\n",
        "\n",
        "print((2*A))"
      ]
    },
    {
      "cell_type": "markdown",
      "source": [
        "O Código funciona da seguinte forma, declaramos as váriaveis na primeira e na segunda linha, logo após criamos um loop na qual a condição é que ele rode enquanto a váriavel S seja maior que 1, dentro do loop, na primeira linha, sempre dividimos a váriavel A pela sua metade, e logo na segunda linha incrementamos a váriavel S em uma unidade + o valor de A. Ao análisarmos o código, aparentemente será um loop infinito, visto que a váriavel S nunca será menor que 1, gerando assim um loop infinito. Entretanto o python entende que que a váriavel A uma chegará a \"0\", por conta do estouro de memória, fazendo assim a váriavel S ter o seu valor considerado igual a 1 e encerrando o loop. tendo como retorno gerado o valor de (2.220446049250313e-16)"
      ],
      "metadata": {
        "id": "QoMBOfe3bzY1"
      }
    }
  ]
}