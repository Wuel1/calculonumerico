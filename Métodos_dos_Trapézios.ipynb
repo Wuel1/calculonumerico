{
  "nbformat": 4,
  "nbformat_minor": 0,
  "metadata": {
    "colab": {
      "provenance": [],
      "authorship_tag": "ABX9TyOxbkI0oBUTtUzLRymqCJeu",
      "include_colab_link": true
    },
    "kernelspec": {
      "name": "python3",
      "display_name": "Python 3"
    },
    "language_info": {
      "name": "python"
    }
  },
  "cells": [
    {
      "cell_type": "markdown",
      "metadata": {
        "id": "view-in-github",
        "colab_type": "text"
      },
      "source": [
        "<a href=\"https://colab.research.google.com/github/Wuel1/calculonumerico/blob/main/M%C3%A9todos_dos_Trap%C3%A9zios.ipynb\" target=\"_parent\"><img src=\"https://colab.research.google.com/assets/colab-badge.svg\" alt=\"Open In Colab\"/></a>"
      ]
    },
    {
      "cell_type": "code",
      "execution_count": 3,
      "metadata": {
        "colab": {
          "base_uri": "https://localhost:8080/"
        },
        "id": "23l1NKIIL1lb",
        "outputId": "df8e6c60-01f5-41e4-e16d-ddbd9b018220"
      },
      "outputs": [
        {
          "output_type": "stream",
          "name": "stdout",
          "text": [
            "0.746787657823748\n"
          ]
        }
      ],
      "source": [
        "import math\n",
        "\n",
        "\n",
        "def fun(x):\n",
        "    return math.exp(-x ** 2) #Função\n",
        "\n",
        "\n",
        "def metodo_trapezio(f, a, b, n):\n",
        "\n",
        "    h = (b - a) / n  # tamanho de cada subintervalo\n",
        "    y= []\n",
        "    x = []\n",
        "    for i in range(n + 1):\n",
        "        point = a + i * h\n",
        "        x.append(point)\n",
        "\n",
        "    for x_i in x:\n",
        "      y_i = f(x_i)\n",
        "      y.append(y_i)\n",
        "\n",
        "    integral = (h / 2) * (y[0] + 2 * sum(y[1:n]) + y[n])\n",
        "\n",
        "    return integral\n",
        "\n",
        "\n",
        "# Definindo os parâmetros do problema\n",
        "a = 0\n",
        "b = 1\n",
        "n = 41 #intervalos\n",
        "\n",
        "# Realizando o cálculo da integral\n",
        "resultado = metodo_trapezio(fun, a, b, n)\n",
        "\n",
        "print(resultado)"
      ]
    }
  ]
}