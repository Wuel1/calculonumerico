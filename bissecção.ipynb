{
  "nbformat": 4,
  "nbformat_minor": 0,
  "metadata": {
    "colab": {
      "provenance": [],
      "authorship_tag": "ABX9TyOexIcWB7rwaGHbbrRDU14C",
      "include_colab_link": true
    },
    "kernelspec": {
      "name": "python3",
      "display_name": "Python 3"
    },
    "language_info": {
      "name": "python"
    }
  },
  "cells": [
    {
      "cell_type": "markdown",
      "metadata": {
        "id": "view-in-github",
        "colab_type": "text"
      },
      "source": [
        "<a href=\"https://colab.research.google.com/github/Wuel1/calculonumerico/blob/main/bissec%C3%A7%C3%A3o.ipynb\" target=\"_parent\"><img src=\"https://colab.research.google.com/assets/colab-badge.svg\" alt=\"Open In Colab\"/></a>"
      ]
    },
    {
      "cell_type": "code",
      "execution_count": 1,
      "metadata": {
        "colab": {
          "base_uri": "https://localhost:8080/"
        },
        "id": "NjPTAuUOmi1i",
        "outputId": "72329d89-eecb-496b-b0f2-874668bb55a8"
      },
      "outputs": [
        {
          "output_type": "stream",
          "name": "stdout",
          "text": [
            "A raiz encontrada foi de  2.543609619140625\n",
            "O número de iterações foi: 14\n"
          ]
        }
      ],
      "source": [
        "import math\n",
        "\n",
        "#Método da função\n",
        "def f(x):\n",
        "  return math.sqrt(9-x**2)-math.exp(x)/8\n",
        "\n",
        "#Definição dos pontos\n",
        "a = 2\n",
        "b = 3\n",
        "\n",
        "#Precisão\n",
        "erro = 0.00009\n",
        "#Iterações\n",
        "k = 0\n",
        "\n",
        "#loop para procurar a raiz\n",
        "while b-a>erro:\n",
        "  M = (a+b)/2\n",
        "  if f(a)*f(M)<0:\n",
        "    b = M\n",
        "  else:\n",
        "    a = M\n",
        "  k = k+1\n",
        "\n",
        "print('A raiz encontrada foi de ' , (a+b)/2)\n",
        "print('O número de iterações foi:', k)"
      ]
    }
  ]
}