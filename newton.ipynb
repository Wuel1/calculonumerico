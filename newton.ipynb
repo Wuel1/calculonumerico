{
  "nbformat": 4,
  "nbformat_minor": 0,
  "metadata": {
    "colab": {
      "provenance": [],
      "authorship_tag": "ABX9TyNoHcCgfKMcRGlFLsJKN4ca",
      "include_colab_link": true
    },
    "kernelspec": {
      "name": "python3",
      "display_name": "Python 3"
    },
    "language_info": {
      "name": "python"
    }
  },
  "cells": [
    {
      "cell_type": "markdown",
      "metadata": {
        "id": "view-in-github",
        "colab_type": "text"
      },
      "source": [
        "<a href=\"https://colab.research.google.com/github/Wuel1/calculonumerico/blob/main/newton.ipynb\" target=\"_parent\"><img src=\"https://colab.research.google.com/assets/colab-badge.svg\" alt=\"Open In Colab\"/></a>"
      ]
    },
    {
      "cell_type": "code",
      "execution_count": null,
      "metadata": {
        "id": "174H6473zu45",
        "outputId": "7244684c-6a97-4512-ef53-57beed9efc32",
        "colab": {
          "base_uri": "https://localhost:8080/"
        }
      },
      "outputs": [
        {
          "output_type": "stream",
          "name": "stdout",
          "text": [
            "-----------NEWTON-------------\n",
            "A solução encontrada foi: 2.54358546180783\n",
            "O número de iterações foi: 4\n"
          ]
        }
      ],
      "source": [
        "import math\n",
        "\n",
        "#função original\n",
        "def f(x):\n",
        "    return math.sqrt(9-x**2)-math.exp(x)/8\n",
        "\n",
        "def f_linha(x):\n",
        "    return (-x/math.sqrt(9-x**2))-math.exp(x)/8\n",
        "\n",
        "#função de iteração\n",
        "def phi(x):\n",
        "    return x - (f(x) / f_linha(x))\n",
        "\n",
        "#aproximação inicial\n",
        "x_k = 2\n",
        "\n",
        "#erro\n",
        "erro = 0.00009\n",
        "\n",
        "#contagem das iterações\n",
        "k = 0\n",
        "\n",
        "#iterações\n",
        "while abs(f(x_k))>=erro:\n",
        "    x_k = phi(x_k)\n",
        "    k += 1\n",
        "\n",
        "print(\"-----------NEWTON-------------\")\n",
        "print(\"A solução encontrada foi:\", x_k)\n",
        "print(\"O número de iterações foi:\", k)"
      ]
    }
  ]
}