{
  "nbformat": 4,
  "nbformat_minor": 0,
  "metadata": {
    "colab": {
      "provenance": [],
      "authorship_tag": "ABX9TyO/xNrkHI4uTnfLd3Z0K5oY",
      "include_colab_link": true
    },
    "kernelspec": {
      "name": "python3",
      "display_name": "Python 3"
    },
    "language_info": {
      "name": "python"
    }
  },
  "cells": [
    {
      "cell_type": "markdown",
      "metadata": {
        "id": "view-in-github",
        "colab_type": "text"
      },
      "source": [
        "<a href=\"https://colab.research.google.com/github/Wuel1/calculonumerico/blob/main/Interpola%C3%A7%C3%A3o.ipynb\" target=\"_parent\"><img src=\"https://colab.research.google.com/assets/colab-badge.svg\" alt=\"Open In Colab\"/></a>"
      ]
    },
    {
      "cell_type": "code",
      "execution_count": 1,
      "metadata": {
        "colab": {
          "base_uri": "https://localhost:8080/"
        },
        "id": "Tk_7GOCCxkDz",
        "outputId": "702e7637-d4bf-4df1-8102-aeaf27e9e3ab"
      },
      "outputs": [
        {
          "name": "stdout",
          "output_type": "stream",
          "text": [
            "Digite o Valor da temperatura, para achar o valor especifico:\n",
            "32.5\n",
            "----------------------------------------------------------------------------------------\n",
            "O calor específico da água a 32.5°C usando o método de Lagrange é: 0.9981712500000001\n",
            "----------------------------------------------------------------------------------------\n",
            "O calor específico da água a 32.5°C usando o método de Newton é: 0.99817125\n",
            "----------------------------------------------------------------------------------------\n",
            "Você deseja continuar?\n",
            " 1 - Sim | 2 - Não\n",
            "2\n"
          ]
        }
      ],
      "source": [
        "# Dados fornecidos\n",
        "temperatura = [35, 40, 45]\n",
        "c_especifico = [0.99818, 0.99828, 0.99849]\n",
        "\n",
        "def lagrange(x, x_data, y_data):\n",
        "    n = len(x_data)\n",
        "    p = 0\n",
        "\n",
        "    for i in range(n):\n",
        "        L = 1\n",
        "        for j in range(n):\n",
        "            if i != j:\n",
        "                L *= (x - x_data[j]) / (x_data[i] - x_data[j])\n",
        "        p += y_data[i] * L\n",
        "\n",
        "    return p\n",
        "\n",
        "def Newton(x,y,xi):\n",
        "  n = len(x)\n",
        "  fdd = [[None for x in range(n)] for x in range(n)]\n",
        "  yint = 0\n",
        "  for i in range(n):\n",
        "    fdd[i][0]= y[i]\n",
        "\n",
        "  for j in range (1,n):\n",
        "    for i in range(n-j):\n",
        "      fdd[i][j]= (fdd[i+1][j-1] - fdd[i][j-1])/(x[i+j]-x[i])\n",
        "  xterm = 1\n",
        "  yint= fdd[0][0]\n",
        "  for order in range(1,n):\n",
        "    xterm = xterm*(xi-x[order-1])\n",
        "    yint= yint + fdd[0][order]*xterm\n",
        "\n",
        "\n",
        "  return  yint\n",
        "\n",
        "# Realizando a interpolação polinomial\n",
        "while True:\n",
        "    x = float(input(\"Digite o Valor da temperatura, para achar o valor especifico:\\n\"))\n",
        "    lagrange_resultado = lagrange(x, temperatura, c_especifico)\n",
        "    Newton_resultado = Newton(temperatura, c_especifico, x)\n",
        "    print(8*\"-----------\")\n",
        "    print(\"O calor específico da água a 32.5°C usando o método de Lagrange é:\", lagrange_resultado)\n",
        "    print(8*\"-----------\")\n",
        "    print(\"O calor específico da água a 32.5°C usando o método de Newton é:\", Newton_resultado)\n",
        "    print(8*\"-----------\")\n",
        "    y = int(input(\"Você deseja continuar?\\n 1 - Sim | 2 - Não\\n\"))\n",
        "    if(y == 1):\n",
        "        continue\n",
        "    else:\n",
        "        break"
      ]
    }
  ]
}