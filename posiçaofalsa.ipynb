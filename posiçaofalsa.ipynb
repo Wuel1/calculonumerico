{
  "nbformat": 4,
  "nbformat_minor": 0,
  "metadata": {
    "colab": {
      "provenance": [],
      "authorship_tag": "ABX9TyNqz20f5WCEH0apTROsKen0",
      "include_colab_link": true
    },
    "kernelspec": {
      "name": "python3",
      "display_name": "Python 3"
    },
    "language_info": {
      "name": "python"
    }
  },
  "cells": [
    {
      "cell_type": "markdown",
      "metadata": {
        "id": "view-in-github",
        "colab_type": "text"
      },
      "source": [
        "<a href=\"https://colab.research.google.com/github/Wuel1/calculonumerico/blob/main/posi%C3%A7aofalsa.ipynb\" target=\"_parent\"><img src=\"https://colab.research.google.com/assets/colab-badge.svg\" alt=\"Open In Colab\"/></a>"
      ]
    },
    {
      "cell_type": "code",
      "execution_count": 1,
      "metadata": {
        "colab": {
          "base_uri": "https://localhost:8080/"
        },
        "id": "t-An39Ag00Ov",
        "outputId": "0cf4cc03-a1a1-4468-c8d0-186166904339"
      },
      "outputs": [
        {
          "output_type": "stream",
          "name": "stdout",
          "text": [
            "A raiz encontrada foi de 2.5435726745481926\n",
            "O número de iterações foi: 12\n"
          ]
        }
      ],
      "source": [
        "import math\n",
        "\n",
        "#método da função\n",
        "def f(x):\n",
        "  return math.sqrt(9-x**2)-math.exp(x)/8\n",
        "\n",
        "#definição dos pontos\n",
        "a = 2\n",
        "b = 3\n",
        "\n",
        "#precisão\n",
        "erro = 0.00009\n",
        "#iterações\n",
        "k = 0\n",
        "\n",
        "M = (a*f(b)-b*f(a))/(f(b)-f(a))\n",
        "\n",
        "#loop para procurar a raiz\n",
        "while abs(f(M))>erro:\n",
        "  M = (a*f(b)-b*f(a))/(f(b)-f(a))\n",
        "  if f(a)*f(M)<0:\n",
        "    b = M\n",
        "  else:\n",
        "    a = M\n",
        "  k = k+1\n",
        "\n",
        "print('A raiz encontrada foi de' , M)\n",
        "print('O número de iterações foi:', k)"
      ]
    }
  ]
}